{
 "cells": [
  {
   "cell_type": "markdown",
   "id": "55e02e65-779b-40a4-828b-5a4deb0de141",
   "metadata": {},
   "source": [
    "# Data Science Tools and Ecosystem"
   ]
  },
  {
   "cell_type": "markdown",
   "id": "630c2790-92c2-4ff3-a2d8-d2de7f471b25",
   "metadata": {},
   "source": [
    "In this notebook, Data Science Tools and Ecosystem are summarized."
   ]
  },
  {
   "cell_type": "markdown",
   "id": "e4c19ef2-b58e-4fbe-8f8b-283cf7a05e35",
   "metadata": {},
   "source": [
    "Some of the popular Data Science Languages are:\n",
    "    \n",
    "1. Python\n",
    "2. R\n",
    "3. SQL\n",
    "4. Julia\n",
    "5. Java\n",
    "6. C++\n",
    "7. C"
   ]
  },
  {
   "cell_type": "markdown",
   "id": "c937233f-78eb-43de-b1bd-55bd09f412a3",
   "metadata": {
    "tags": []
   },
   "source": [
    "**Objectives:**\n",
    "\n",
    "- Identify Data Science Libraries\n",
    "- Identify Data Science Languages\n",
    "- Identify Data Science Tools\n",
    "- Demonstrate equation solving in JupyterNotebook"
   ]
  },
  {
   "cell_type": "markdown",
   "id": "1af8633a-70c4-48f1-bb9a-e848862f71cf",
   "metadata": {},
   "source": [
    "Some commonly used libraries for Data Science include:\n",
    "    \n",
    "    1. Pytorch\n",
    "    2. Pandas\n",
    "    3. TensorFlow\n",
    "    4. NumPy\n",
    "    5. Matplotlib\n",
    "    6. Keras\n",
    "    7. SciPy"
   ]
  },
  {
   "cell_type": "markdown",
   "id": "f951df11-9aad-4f1c-a5c4-fd4fee604600",
   "metadata": {
    "tags": []
   },
   "source": [
    "| Data Science Tools |\n",
    "| ---- |\n",
    "| Jupyter Notebook |\n",
    "| Apache Spark |\n",
    "| Python |"
   ]
  },
  {
   "cell_type": "markdown",
   "id": "c17784a1-5977-4017-9e2f-2309f0fd207a",
   "metadata": {},
   "source": [
    "### Below are a few examples of evaluating arithmetic expressions in Python."
   ]
  },
  {
   "cell_type": "markdown",
   "id": "03e3737b-b38a-4040-b44b-6c9053be682f",
   "metadata": {
    "tags": []
   },
   "source": [
    "This is a simple arithmetic expression to multiply then add intigers."
   ]
  },
  {
   "cell_type": "code",
   "execution_count": 8,
   "id": "9f73ca2e-61af-4235-be7b-61740d2d19d0",
   "metadata": {
    "tags": []
   },
   "outputs": [
    {
     "data": {
      "text/plain": [
       "17"
      ]
     },
     "execution_count": 8,
     "metadata": {},
     "output_type": "execute_result"
    }
   ],
   "source": [
    "(3*4)+5"
   ]
  },
  {
   "cell_type": "markdown",
   "id": "31b482aa-e61f-470f-8eef-1fb50234988f",
   "metadata": {},
   "source": [
    "This will convert minutes into hours."
   ]
  },
  {
   "cell_type": "code",
   "execution_count": 9,
   "id": "1a89dff0-379f-49fa-9957-3dbe48562062",
   "metadata": {
    "tags": []
   },
   "outputs": [
    {
     "data": {
      "text/plain": [
       "3.3333333333333335"
      ]
     },
     "execution_count": 9,
     "metadata": {},
     "output_type": "execute_result"
    }
   ],
   "source": [
    "200/60"
   ]
  },
  {
   "cell_type": "markdown",
   "id": "36cb2558-86e1-4cea-b46b-951a6b3911b0",
   "metadata": {},
   "source": [
    "## Author\n",
    "Russell Ligon"
   ]
  },
  {
   "cell_type": "code",
   "execution_count": null,
   "id": "badb4282-2a9b-485e-883d-179ff2bbe8c5",
   "metadata": {},
   "outputs": [],
   "source": []
  }
 ],
 "metadata": {
  "kernelspec": {
   "display_name": "Python",
   "language": "python",
   "name": "conda-env-python-py"
  },
  "language_info": {
   "codemirror_mode": {
    "name": "ipython",
    "version": 3
   },
   "file_extension": ".py",
   "mimetype": "text/x-python",
   "name": "python",
   "nbconvert_exporter": "python",
   "pygments_lexer": "ipython3",
   "version": "3.7.12"
  }
 },
 "nbformat": 4,
 "nbformat_minor": 5
}
